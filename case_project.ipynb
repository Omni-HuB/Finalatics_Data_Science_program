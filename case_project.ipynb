{
 "cells": [
  {
   "cell_type": "markdown",
   "metadata": {},
   "source": [
    "<h2><strong> About Finlatics CASE PROJECT </strong></h2>\n",
    "\n",
    "<h5> <u>About the Dataset</u> </h5>\n",
    "A collection of YouTube giants, this dataset offers a perfect avenue to analyze and gain valuable insights from the luminaries of the platform. With comprehensive details on top creators' subscriber counts, video views, upload frequency, country of origin, earnings, and more, this treasure trove of information is a must-explore for aspiring content creators, data enthusiasts, and anyone intrigued by the ever-evolving online content landscape. Immerse yourself in the world of YouTube success and unlock a wealth of knowledge with this extraordinary dataset.\n",
    "\n",
    "<h5><u>Key Features</u>:-----><h5>\n",
    "<ul>\n",
    "<li><strong>rank:</strong> Position of the YouTube channel based on the number of subscribers</li>\n",
    "\n",
    "<li><strong>Youtuber:</strong> Name of the YouTube channel</li>\n",
    "\n",
    "<li><strong>subscribers:</strong> Number of subscribers to the channel</li>\n",
    "\n",
    "<li><strong>video views:</strong> Total views across all videos on the channel4</li>\n",
    "\n",
    "<li><strong>category:</strong> Category or niche of the channel</li>\n",
    "\n",
    "<li><strong>Title:</strong> Title of the YouTube channel</li>\n",
    "\n",
    "<li><strong>uploads:</strong> Total number of videos uploaded on the channel</li>\n",
    "\n",
    "<li><strong>Country:</strong> Country where the YouTube channel originates</li>\n",
    "\n",
    "<li><strong>Abbreviation:</strong> Abbreviation of the country</li>\n",
    "\n",
    "<li><strong>channel_type:</strong> Type of the YouTube channel</li>\n",
    "\n",
    "<li><strong>video_views_rank:</strong> Ranking of the channel based on total video views</li>\n",
    "\n",
    "<li><strong>country_rank:</strong> Ranking of the channel based on the number of subscribers within its country\n",
    "\n",
    "<li><strong>channel_type_rank:</strong> Ranking of the channel based on its type video_views_for_the_last_30_days: Total video views in the last 30 days\n",
    "\n",
    "<li><strong>lowest_monthly_earnings:</strong> Lowest estimated monthly earnings from the channel\n",
    "\n",
    "<li><strong>highest_monthly_earnings:</strong> Highest estimated monthly earnings from the channel\n",
    "\n",
    "<li><strong>lowest_yearly_earnings:</strong> Lowest estimated yearly earnings from the channel\n",
    "\n",
    "<li><strong>highest_yearly_earnings:</strong> Highest estimated yearly earnings from the channel\n",
    "\n",
    "<li><strong>subscribers_for_last_30_days:</strong> Number of new subscribers gained in the last 30 days\n",
    "\n",
    "<li><strong>created_year:</strong> Year when the YouTube channel was created\n",
    "\n",
    "<li><strong>created_month:</strong> Month when the YouTube channel was created\n",
    "\n",
    "<li><strong>created_date:</strong> Exact date of the YouTube channel's creation\n",
    "\n",
    "<li><strong>Gross tertiary education enrollment (%):</strong> Percentage of the population enrolled in tertiary education in the country\n",
    "\n",
    "<li><strong>Population:</strong> Total population of the country\n",
    "\n",
    "<li><strong>Unemployment rate:</strong> Unemployment rate in the country\n",
    "\n",
    "<li><strong>Urban_population:</strong> Percentage of the population living in urban areas\n",
    "\n",
    "<li><strong>Latitude:</strong> Latitude coordinate of the country's location\n",
    "\n",
    "<li><strong>Longitude:</strong> Longitude coordinate of the country's location\n",
    "\n",
    "</ul>\n",
    "<br>\n"
   ]
  },
  {
   "cell_type": "markdown",
   "metadata": {},
   "source": [
    "<h2><strong>Analysis to do :</strong></h2>\n",
    "\n",
    "NOTE: Preprocess the dataset prior to analysis for accurate insights\n",
    "\n",
    "<ol>\n",
    "<li>What are the top 10 YouTube channels based on the number of subscribers?\n",
    "\n",
    "<li>Which category has the highest average number of subscribers?\n",
    "\n",
    "<li>How many videos, on average, are uploaded by YouTube channels in each category?\n",
    "\n",
    "<li>What are the top 5 countries with the highest number of YouTube channels?\n",
    "\n",
    "<li>What is the distribution of channel types across different categories?\n",
    "\n",
    "<li>Is there a correlation between the number of subscribers and total video views for YouTube channels?\n",
    "\n",
    "<li>How do the monthly earnings vary throughout different categories?\n",
    "\n",
    "<li>What is the overall trend in subscribers gained in the last 30 days across all channels?\n",
    "\n",
    "<li>Are there any outliers in terms of yearly earnings from YouTube channels?\n",
    "\n",
    "<li>What is the distribution of channel creation dates? Is there any trend over time?\n",
    "\n",
    "<li>Is there a relationship between gross tertiary education enrollment and the number of YouTube channels in a country?\n",
    "\n",
    "<li>How does the unemployment rate vary among the top 10 countries with the highest number of YouTube channels?\n",
    "\n",
    "<li>What is the average urban population percentage in countries with YouTube channels?\n",
    "\n",
    "<li>Are there any patterns in the distribution of YouTube channels based on latitude and longitude coordinates?\n",
    "\n",
    "<li>What is the correlation between the number of subscribers and the population of a country?\n",
    "\n",
    "<li>How do the top 10 countries with the highest number of YouTube channels compare in terms of their total population?\n",
    "\n",
    "<li>Is there a correlation between the number of subscribers gained in the last 30 days and the unemployment rate in a country?\n",
    "\n",
    "<li>How does the distribution of video views for the last 30 days vary across different channel types?\n",
    "\n",
    "<li>Are there any seasonal trends in the number of videos uploaded by YouTube channels?\n",
    "\n",
    "<li>What is the average number of subscribers gained per month since the creation of YouTube channels till now?\n",
    "\n",
    "</ol>"
   ]
  },
  {
   "cell_type": "code",
   "execution_count": null,
   "metadata": {},
   "outputs": [],
   "source": []
  },
  {
   "cell_type": "code",
   "execution_count": null,
   "metadata": {},
   "outputs": [],
   "source": [
    "import numpy as np\n",
    "import pandas as pd\n",
    "import matplotlib.pyplot as plt\n",
    "import os "
   ]
  },
  {
   "cell_type": "code",
   "execution_count": null,
   "metadata": {},
   "outputs": [],
   "source": [
    "# Define the path to the dataset\n",
    "data_path = os.path.join(os.getcwd(),\"DsResearch\",\"Media and Technology\",\"Global YouTube Statistics.csv\")\n",
    "\n",
    "# Print the constructed path\n",
    "print(f\"Constructed file path: {data_path}\")\n",
    "\n",
    "# Check if the file exists\n",
    "if os.path.exists(data_path):\n",
    "    print(\"File exists. Proceeding to load the dataset.\")\n",
    "    try:\n",
    "        #Load the dataset\n",
    "        df= pd.read_csv(data_path)\n",
    "        print(\"Dataset loaded successfully.\")\n",
    "        \n",
    "    except Exception as e:\n",
    "        print(f\"An error occurred while loading the dataset: {e}\")\n",
    "        \n",
    "    try:\n",
    "        print(\"trying to load dataset wth different encoding\")\n",
    "        df= pd.read_csv(data_path, encoding='ISO-8859-1') \n",
    "        print(\"sucessfully loaded dataset \")\n",
    "        \n",
    "    except Exception as e:\n",
    "        print(f\"An error occurred while loading the dataset: {e}\")\n",
    "else:\n",
    "    print(f\"The file {data_path} does not exist. Please check the path.\")\n",
    "\n",
    "\n",
    "df.head(20)"
   ]
  },
  {
   "cell_type": "markdown",
   "metadata": {},
   "source": []
  },
  {
   "cell_type": "markdown",
   "metadata": {},
   "source": []
  },
  {
   "cell_type": "code",
   "execution_count": null,
   "metadata": {},
   "outputs": [],
   "source": [
    "df1 = df[['Youtuber','subscribers','Country',]]\n",
    "df1"
   ]
  },
  {
   "cell_type": "code",
   "execution_count": null,
   "metadata": {},
   "outputs": [],
   "source": [
    "df1 = df1.sort_values(by='subscribers', ascending=False)\n",
    "df1.head(10)"
   ]
  },
  {
   "cell_type": "code",
   "execution_count": null,
   "metadata": {},
   "outputs": [],
   "source": [
    "plt1_data = df.iloc[0:10][\"Youtuber\"]\n",
    "plt1_data = list(plt1_data)\n",
    "plt1_data "
   ]
  },
  {
   "cell_type": "code",
   "execution_count": null,
   "metadata": {},
   "outputs": [],
   "source": [
    "plt2_data = df.iloc[0:10][\"subscribers\"]\n",
    "plt2_data = list(plt2_data)\n",
    "plt2_data "
   ]
  },
  {
   "cell_type": "code",
   "execution_count": null,
   "metadata": {},
   "outputs": [],
   "source": [
    "plt.bar(plt1_data, plt2_data, color='red')\n",
    "plt.xlabel(\"Youtuber_channels\")\n",
    "plt.ylabel(\"Subscribers\")\n",
    "\n",
    "plt.xticks(rotation=85)\n",
    "plt.show()\n"
   ]
  },
  {
   "cell_type": "code",
   "execution_count": null,
   "metadata": {},
   "outputs": [],
   "source": [
    "top_10_channels = df.nlargest(10, 'subscribers')[['Youtuber', 'subscribers','Country']]\n",
    "print(top_10_channels)\n"
   ]
  },
  {
   "cell_type": "markdown",
   "metadata": {},
   "source": []
  },
  {
   "cell_type": "code",
   "execution_count": null,
   "metadata": {},
   "outputs": [],
   "source": [
    "import pandas as pd\n",
    "\n",
    "# Load the dataset\n",
    "df2= pd.read_csv(data_path, encoding='ISO-8859-1') \n",
    "print(\"sucessfully loaded dataset \")\n",
    "df2"
   ]
  },
  {
   "cell_type": "code",
   "execution_count": null,
   "metadata": {},
   "outputs": [],
   "source": [
    "# Check for missing values\n",
    "print(df2.isnull().sum())\n",
    "\n",
    "# # Fill or drop missing values as needed\n",
    "# df2 = df2.dropna()  # Example: dropping rows with missing values\n",
    "\n",
    "#Fill missing values for numerical columns with the mean\n",
    "numerical_cols = df2.select_dtypes(include=['int64', 'float64']).columns\n",
    "df2[numerical_cols] = df2[numerical_cols].fillna(df2[numerical_cols].mean())\n",
    "\n",
    "print(df2.isnull().sum())\n",
    "\n",
    "# # Fill missing values for categorical columns with the mode\n",
    "# categorical_cols = df2.select_dtypes(include=['object']).columns\n",
    "# df2[categorical_cols] = df2[categorical_cols].fillna(df2[categorical_cols].mode().iloc[0])\n",
    "\n"
   ]
  },
  {
   "cell_type": "code",
   "execution_count": null,
   "metadata": {},
   "outputs": [],
   "source": [
    "\n",
    "# Fill missing values for categorical columns with the mode\n",
    "categorical_cols = df2.select_dtypes(include=['object']).columns\n",
    "df2[categorical_cols] = df2[categorical_cols].fillna(df2[categorical_cols].mode().iloc[0])\n",
    "\n",
    "print(df2.isnull().sum())\n"
   ]
  },
  {
   "cell_type": "code",
   "execution_count": null,
   "metadata": {},
   "outputs": [],
   "source": [
    "df2"
   ]
  },
  {
   "cell_type": "code",
   "execution_count": null,
   "metadata": {},
   "outputs": [],
   "source": []
  }
 ],
 "metadata": {
  "kernelspec": {
   "display_name": "base",
   "language": "python",
   "name": "python3"
  },
  "language_info": {
   "codemirror_mode": {
    "name": "ipython",
    "version": 3
   },
   "file_extension": ".py",
   "mimetype": "text/x-python",
   "name": "python",
   "nbconvert_exporter": "python",
   "pygments_lexer": "ipython3",
   "version": "3.11.7"
  }
 },
 "nbformat": 4,
 "nbformat_minor": 2
}
